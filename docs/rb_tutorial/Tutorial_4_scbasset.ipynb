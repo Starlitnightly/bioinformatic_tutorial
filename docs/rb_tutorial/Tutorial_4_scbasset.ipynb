{
 "cells": [
  {
   "cell_type": "markdown",
   "id": "d25aeb37-81a0-4d81-b818-812eb0a2eb14",
   "metadata": {},
   "source": [
    "# 教程4: Motif活性分数计算\n",
    "\n",
    "在这里，我们使用`scbasset`对scATAC里染色质开放区域的Motif进行活性评估，目的是在于找到转录因子的结合基序的位置的分数\n",
    "\n",
    "详细教程见https://github.com/calico/scBasset\n"
   ]
  },
  {
   "cell_type": "code",
   "execution_count": 1,
   "id": "54ca61cd-0834-4604-b4eb-4bf43ca11d6f",
   "metadata": {},
   "outputs": [
    {
     "name": "stdout",
     "output_type": "stream",
     "text": [
      "anndata(Ver):  0.8.0\n",
      "scanpy(Ver):  1.9.1\n",
      "matplotlib(Ver):  3.5.1\n",
      "seaborn(Ver):  0.11.2\n",
      "numpy(Ver):  1.22.3\n",
      "pandas(Ver):  1.3.5\n",
      "scvelo(Ver):  0.2.4\n",
      "Pyomic(Ver):  1.1.4\n"
     ]
    },
    {
     "name": "stderr",
     "output_type": "stream",
     "text": [
      "Global seed set to 0\n"
     ]
    },
    {
     "name": "stdout",
     "output_type": "stream",
     "text": [
      "scvi(Ver):  0.20.1\n",
      "scglue(Ver):  0.3.2\n"
     ]
    }
   ],
   "source": [
    "#导入包\n",
    "import anndata\n",
    "print('anndata(Ver): ',anndata.__version__)\n",
    "import scanpy as sc\n",
    "print('scanpy(Ver): ',sc.__version__)\n",
    "import matplotlib.pyplot as plt\n",
    "import matplotlib\n",
    "print('matplotlib(Ver): ',matplotlib.__version__)\n",
    "import seaborn as sns\n",
    "print('seaborn(Ver): ',sns.__version__)\n",
    "import numpy as np\n",
    "print('numpy(Ver): ',np.__version__)\n",
    "import pandas as pd\n",
    "print('pandas(Ver): ',pd.__version__)\n",
    "import scvelo as scv\n",
    "print('scvelo(Ver): ',scv.__version__)\n",
    "import Pyomic\n",
    "print('Pyomic(Ver): ',Pyomic.__version__)\n",
    "import scvi\n",
    "print('scvi(Ver): ',scvi.__version__)\n",
    "import scglue\n",
    "print('scglue(Ver): ',scglue.__version__)\n",
    "\n",
    "\n",
    "#绘图参数设置\n",
    "sc.settings.verbosity = 3             # verbosity: errors (0), warnings (1), info (2), hints (3)\n",
    "sc.settings.set_figure_params(dpi=80, facecolor='white')\n",
    "\n",
    "from matplotlib.colors import LinearSegmentedColormap\n",
    "sc_color=['#7CBB5F','#368650','#A499CC','#5E4D9A','#78C2ED','#866017', '#9F987F','#E0DFED',\n",
    " '#EF7B77', '#279AD7','#F0EEF0', '#1F577B', '#A56BA7', '#E0A7C8', '#E069A6', '#941456', '#FCBC10',\n",
    " '#EAEFC5', '#01A0A7', '#75C8CC', '#F0D7BC', '#D5B26C', '#D5DA48', '#B6B812', '#9DC3C3', '#A89C92', '#FEE00C', '#FEF2A1']\n",
    "sc_color_cmap = LinearSegmentedColormap.from_list('Custom', sc_color, len(sc_color))"
   ]
  },
  {
   "cell_type": "markdown",
   "id": "efcb7fa4-4b23-4514-8345-cbd98a0edb6c",
   "metadata": {},
   "source": [
    "### 加载数据和预处理\n",
    "在本次教程, 我们将使用`scglue`的atac-emb文件作为输入"
   ]
  },
  {
   "cell_type": "code",
   "execution_count": 2,
   "id": "82677953-cd23-4e7b-aeb4-9ffbcfe3a21d",
   "metadata": {},
   "outputs": [
    {
     "data": {
      "text/plain": [
       "AnnData object with n_obs × n_vars = 21194 × 296334\n",
       "    obs: 'Tissue', 'Developmental_Stage', 'SRR', 'nb_features', 'log_nb_features', 'domain', 'balancing_weight'\n",
       "    var: 'n_cells', 'commonness', 'prop_shared_cells', 'variability_score', 'chrom', 'chromStart', 'chromEnd', 'highly_variable'\n",
       "    uns: '__scglue__', 'neighbors', 'umap'\n",
       "    obsm: 'X_glue', 'X_lsi', 'X_umap'\n",
       "    varm: 'X_glue'\n",
       "    obsp: 'connectivities', 'distances'"
      ]
     },
     "execution_count": 2,
     "metadata": {},
     "output_type": "execute_result"
    }
   ],
   "source": [
    "current_path='/home/leihu/data/analysis/rb_tutorial/'\n",
    "adata=sc.read(current_path+'data/scglue/atac-emb.h5ad')\n",
    "adata"
   ]
  },
  {
   "cell_type": "markdown",
   "id": "8ae940f2-d4a0-4ea2-8729-5ed0c3e6d2f6",
   "metadata": {},
   "source": [
    "We can use scanpy functions to handle, filter, and manipulate the data. In our case, we might want to filter out peaks that are rarely detected, to make the model train faster:"
   ]
  },
  {
   "cell_type": "code",
   "execution_count": 3,
   "id": "51aa2927-521b-463b-9628-58aadb0f3c04",
   "metadata": {},
   "outputs": [
    {
     "name": "stdout",
     "output_type": "stream",
     "text": [
      "(21194, 296334)\n",
      "filtered out 260884 genes that are detected in less than 1059 cells\n",
      "(21194, 35450)\n"
     ]
    }
   ],
   "source": [
    "print(adata.shape)\n",
    "# compute the threshold: 5% of the cells\n",
    "min_cells = int(adata.shape[0] * 0.05)\n",
    "# in-place filtering of regions\n",
    "sc.pp.filter_genes(adata, min_cells=min_cells)\n",
    "print(adata.shape)"
   ]
  },
  {
   "cell_type": "markdown",
   "id": "b36a9c75-9c6e-4db2-8a0f-49179ce190ad",
   "metadata": {},
   "source": [
    "我们需要将类似chr10_100173036_100173942分割成chr10，100173036，100173942三个部分"
   ]
  },
  {
   "cell_type": "code",
   "execution_count": 4,
   "id": "36aa716d-977e-42d6-a618-7cd3645b65a2",
   "metadata": {},
   "outputs": [
    {
     "data": {
      "text/html": [
       "<div>\n",
       "<style scoped>\n",
       "    .dataframe tbody tr th:only-of-type {\n",
       "        vertical-align: middle;\n",
       "    }\n",
       "\n",
       "    .dataframe tbody tr th {\n",
       "        vertical-align: top;\n",
       "    }\n",
       "\n",
       "    .dataframe thead th {\n",
       "        text-align: right;\n",
       "    }\n",
       "</style>\n",
       "<table border=\"1\" class=\"dataframe\">\n",
       "  <thead>\n",
       "    <tr style=\"text-align: right;\">\n",
       "      <th></th>\n",
       "      <th>n_cells</th>\n",
       "      <th>commonness</th>\n",
       "      <th>prop_shared_cells</th>\n",
       "      <th>variability_score</th>\n",
       "      <th>chrom</th>\n",
       "      <th>chromStart</th>\n",
       "      <th>chromEnd</th>\n",
       "      <th>highly_variable</th>\n",
       "      <th>gene_ids</th>\n",
       "      <th>chr</th>\n",
       "      <th>start</th>\n",
       "      <th>end</th>\n",
       "    </tr>\n",
       "    <tr>\n",
       "      <th>name</th>\n",
       "      <th></th>\n",
       "      <th></th>\n",
       "      <th></th>\n",
       "      <th></th>\n",
       "      <th></th>\n",
       "      <th></th>\n",
       "      <th></th>\n",
       "      <th></th>\n",
       "      <th></th>\n",
       "      <th></th>\n",
       "      <th></th>\n",
       "      <th></th>\n",
       "    </tr>\n",
       "  </thead>\n",
       "  <tbody>\n",
       "    <tr>\n",
       "      <th>chr10_100173036_100173942</th>\n",
       "      <td>1498</td>\n",
       "      <td>4603.0</td>\n",
       "      <td>0.114983</td>\n",
       "      <td>0.614983</td>\n",
       "      <td>chr10</td>\n",
       "      <td>100173036</td>\n",
       "      <td>100173942</td>\n",
       "      <td>False</td>\n",
       "      <td>chr10_100173036_100173942</td>\n",
       "      <td>chr10</td>\n",
       "      <td>100173036</td>\n",
       "      <td>100173942</td>\n",
       "    </tr>\n",
       "    <tr>\n",
       "      <th>chr10_100256039_100256897</th>\n",
       "      <td>2862</td>\n",
       "      <td>7228.0</td>\n",
       "      <td>0.180556</td>\n",
       "      <td>0.680556</td>\n",
       "      <td>chr10</td>\n",
       "      <td>100256039</td>\n",
       "      <td>100256897</td>\n",
       "      <td>False</td>\n",
       "      <td>chr10_100256039_100256897</td>\n",
       "      <td>chr10</td>\n",
       "      <td>100256039</td>\n",
       "      <td>100256897</td>\n",
       "    </tr>\n",
       "    <tr>\n",
       "      <th>chr10_100312289_100313212</th>\n",
       "      <td>3346</td>\n",
       "      <td>8659.0</td>\n",
       "      <td>0.216302</td>\n",
       "      <td>0.716302</td>\n",
       "      <td>chr10</td>\n",
       "      <td>100312289</td>\n",
       "      <td>100313212</td>\n",
       "      <td>False</td>\n",
       "      <td>chr10_100312289_100313212</td>\n",
       "      <td>chr10</td>\n",
       "      <td>100312289</td>\n",
       "      <td>100313212</td>\n",
       "    </tr>\n",
       "    <tr>\n",
       "      <th>chr10_100403022_100404021</th>\n",
       "      <td>1760</td>\n",
       "      <td>6837.0</td>\n",
       "      <td>0.170788</td>\n",
       "      <td>0.670788</td>\n",
       "      <td>chr10</td>\n",
       "      <td>100403022</td>\n",
       "      <td>100404021</td>\n",
       "      <td>False</td>\n",
       "      <td>chr10_100403022_100404021</td>\n",
       "      <td>chr10</td>\n",
       "      <td>100403022</td>\n",
       "      <td>100404021</td>\n",
       "    </tr>\n",
       "    <tr>\n",
       "      <th>chr10_100414398_100415297</th>\n",
       "      <td>3531</td>\n",
       "      <td>8736.0</td>\n",
       "      <td>0.218225</td>\n",
       "      <td>0.718225</td>\n",
       "      <td>chr10</td>\n",
       "      <td>100414398</td>\n",
       "      <td>100415297</td>\n",
       "      <td>False</td>\n",
       "      <td>chr10_100414398_100415297</td>\n",
       "      <td>chr10</td>\n",
       "      <td>100414398</td>\n",
       "      <td>100415297</td>\n",
       "    </tr>\n",
       "    <tr>\n",
       "      <th>...</th>\n",
       "      <td>...</td>\n",
       "      <td>...</td>\n",
       "      <td>...</td>\n",
       "      <td>...</td>\n",
       "      <td>...</td>\n",
       "      <td>...</td>\n",
       "      <td>...</td>\n",
       "      <td>...</td>\n",
       "      <td>...</td>\n",
       "      <td>...</td>\n",
       "      <td>...</td>\n",
       "      <td>...</td>\n",
       "    </tr>\n",
       "    <tr>\n",
       "      <th>chrY_19975993_19976805</th>\n",
       "      <td>2816</td>\n",
       "      <td>6709.0</td>\n",
       "      <td>0.167591</td>\n",
       "      <td>0.667591</td>\n",
       "      <td>chrY</td>\n",
       "      <td>19975993</td>\n",
       "      <td>19976805</td>\n",
       "      <td>False</td>\n",
       "      <td>chrY_19975993_19976805</td>\n",
       "      <td>chrY</td>\n",
       "      <td>19975993</td>\n",
       "      <td>19976805</td>\n",
       "    </tr>\n",
       "    <tr>\n",
       "      <th>chrY_20723229_20724038</th>\n",
       "      <td>2306</td>\n",
       "      <td>5670.0</td>\n",
       "      <td>0.141637</td>\n",
       "      <td>0.641637</td>\n",
       "      <td>chrY</td>\n",
       "      <td>20723229</td>\n",
       "      <td>20724038</td>\n",
       "      <td>False</td>\n",
       "      <td>chrY_20723229_20724038</td>\n",
       "      <td>chrY</td>\n",
       "      <td>20723229</td>\n",
       "      <td>20724038</td>\n",
       "    </tr>\n",
       "    <tr>\n",
       "      <th>chrY_2518055_2519065</th>\n",
       "      <td>1615</td>\n",
       "      <td>3957.0</td>\n",
       "      <td>0.098846</td>\n",
       "      <td>0.598846</td>\n",
       "      <td>chrY</td>\n",
       "      <td>2518055</td>\n",
       "      <td>2519065</td>\n",
       "      <td>False</td>\n",
       "      <td>chrY_2518055_2519065</td>\n",
       "      <td>chrY</td>\n",
       "      <td>2518055</td>\n",
       "      <td>2519065</td>\n",
       "    </tr>\n",
       "    <tr>\n",
       "      <th>chrY_2629489_2630467</th>\n",
       "      <td>1906</td>\n",
       "      <td>4368.0</td>\n",
       "      <td>0.109113</td>\n",
       "      <td>0.609113</td>\n",
       "      <td>chrY</td>\n",
       "      <td>2629489</td>\n",
       "      <td>2630467</td>\n",
       "      <td>True</td>\n",
       "      <td>chrY_2629489_2630467</td>\n",
       "      <td>chrY</td>\n",
       "      <td>2629489</td>\n",
       "      <td>2630467</td>\n",
       "    </tr>\n",
       "    <tr>\n",
       "      <th>chrY_298753_299584</th>\n",
       "      <td>1483</td>\n",
       "      <td>3253.0</td>\n",
       "      <td>0.081260</td>\n",
       "      <td>0.581260</td>\n",
       "      <td>chrY</td>\n",
       "      <td>298753</td>\n",
       "      <td>299584</td>\n",
       "      <td>False</td>\n",
       "      <td>chrY_298753_299584</td>\n",
       "      <td>chrY</td>\n",
       "      <td>298753</td>\n",
       "      <td>299584</td>\n",
       "    </tr>\n",
       "  </tbody>\n",
       "</table>\n",
       "<p>35450 rows × 12 columns</p>\n",
       "</div>"
      ],
      "text/plain": [
       "                           n_cells  commonness  prop_shared_cells  \\\n",
       "name                                                                \n",
       "chr10_100173036_100173942     1498      4603.0           0.114983   \n",
       "chr10_100256039_100256897     2862      7228.0           0.180556   \n",
       "chr10_100312289_100313212     3346      8659.0           0.216302   \n",
       "chr10_100403022_100404021     1760      6837.0           0.170788   \n",
       "chr10_100414398_100415297     3531      8736.0           0.218225   \n",
       "...                            ...         ...                ...   \n",
       "chrY_19975993_19976805        2816      6709.0           0.167591   \n",
       "chrY_20723229_20724038        2306      5670.0           0.141637   \n",
       "chrY_2518055_2519065          1615      3957.0           0.098846   \n",
       "chrY_2629489_2630467          1906      4368.0           0.109113   \n",
       "chrY_298753_299584            1483      3253.0           0.081260   \n",
       "\n",
       "                           variability_score  chrom  chromStart   chromEnd  \\\n",
       "name                                                                         \n",
       "chr10_100173036_100173942           0.614983  chr10   100173036  100173942   \n",
       "chr10_100256039_100256897           0.680556  chr10   100256039  100256897   \n",
       "chr10_100312289_100313212           0.716302  chr10   100312289  100313212   \n",
       "chr10_100403022_100404021           0.670788  chr10   100403022  100404021   \n",
       "chr10_100414398_100415297           0.718225  chr10   100414398  100415297   \n",
       "...                                      ...    ...         ...        ...   \n",
       "chrY_19975993_19976805              0.667591   chrY    19975993   19976805   \n",
       "chrY_20723229_20724038              0.641637   chrY    20723229   20724038   \n",
       "chrY_2518055_2519065                0.598846   chrY     2518055    2519065   \n",
       "chrY_2629489_2630467                0.609113   chrY     2629489    2630467   \n",
       "chrY_298753_299584                  0.581260   chrY      298753     299584   \n",
       "\n",
       "                           highly_variable                   gene_ids    chr  \\\n",
       "name                                                                           \n",
       "chr10_100173036_100173942            False  chr10_100173036_100173942  chr10   \n",
       "chr10_100256039_100256897            False  chr10_100256039_100256897  chr10   \n",
       "chr10_100312289_100313212            False  chr10_100312289_100313212  chr10   \n",
       "chr10_100403022_100404021            False  chr10_100403022_100404021  chr10   \n",
       "chr10_100414398_100415297            False  chr10_100414398_100415297  chr10   \n",
       "...                                    ...                        ...    ...   \n",
       "chrY_19975993_19976805               False     chrY_19975993_19976805   chrY   \n",
       "chrY_20723229_20724038               False     chrY_20723229_20724038   chrY   \n",
       "chrY_2518055_2519065                 False       chrY_2518055_2519065   chrY   \n",
       "chrY_2629489_2630467                  True       chrY_2629489_2630467   chrY   \n",
       "chrY_298753_299584                   False         chrY_298753_299584   chrY   \n",
       "\n",
       "                               start        end  \n",
       "name                                             \n",
       "chr10_100173036_100173942  100173036  100173942  \n",
       "chr10_100256039_100256897  100256039  100256897  \n",
       "chr10_100312289_100313212  100312289  100313212  \n",
       "chr10_100403022_100404021  100403022  100404021  \n",
       "chr10_100414398_100415297  100414398  100415297  \n",
       "...                              ...        ...  \n",
       "chrY_19975993_19976805      19975993   19976805  \n",
       "chrY_20723229_20724038      20723229   20724038  \n",
       "chrY_2518055_2519065         2518055    2519065  \n",
       "chrY_2629489_2630467         2629489    2630467  \n",
       "chrY_298753_299584            298753     299584  \n",
       "\n",
       "[35450 rows x 12 columns]"
      ]
     },
     "execution_count": 4,
     "metadata": {},
     "output_type": "execute_result"
    }
   ],
   "source": [
    "adata.var['gene_ids']=adata.var.index.tolist()\n",
    "split_interval = adata.var[\"gene_ids\"].str.split(\"_\", expand=True)\n",
    "adata.var[\"chr\"] = split_interval[0]\n",
    "adata.var[\"start\"] = split_interval[1].astype(int)\n",
    "adata.var[\"end\"] = split_interval[2].astype(int)\n",
    "adata.var"
   ]
  },
  {
   "cell_type": "markdown",
   "id": "3dbaae1b-4425-40e3-82f1-e54d5c2e782d",
   "metadata": {},
   "source": [
    "此外，有一些染色体的开头不是chr，我们在分析中也应该去掉"
   ]
  },
  {
   "cell_type": "code",
   "execution_count": 5,
   "id": "d7257f4e-ee8f-4aa1-a47f-67ac9a663986",
   "metadata": {},
   "outputs": [],
   "source": [
    "# Filter out non-chromosomal regions\n",
    "mask = adata.var[\"chr\"].str.startswith(\"chr\")\n",
    "adata = adata[:, mask].copy()"
   ]
  },
  {
   "cell_type": "code",
   "execution_count": 8,
   "id": "c3d3a6d0-2298-4e3e-9bc0-b3d50886f10f",
   "metadata": {},
   "outputs": [],
   "source": [
    "adata.write_h5ad(current_path+'data/scbasset/adata_scbasset_pre.h5ad',compression='gzip')"
   ]
  },
  {
   "cell_type": "markdown",
   "id": "245aab88-817b-450a-81a2-a226887f9574",
   "metadata": {},
   "source": [
    "### scBasset模型预处理与训练\n",
    "\n",
    "模型的训练参数参照[scbasset](https://github.com/calico/scBasset/)的官方文档，我这里简单解释一下参数\n",
    "\n",
    "预处理：scbasset_preprocess.py\n",
    "- ad_file 输入的scATAC-seq数据文件，其染色体已被分割，peaks已被筛选\n",
    "- input_fasta 输入的参考基因组，在这里由于我们是用T2TCHM13对测序数据进行比对的，所以我们参考基因组也选择CHM13.fa\n",
    "- out_path 模型预处理好后的保存路径\n",
    "\n",
    "训练：scbasset_train.py\n",
    "- input_folder 模型预处理的保存路径\n",
    "- epochs 训练迭代次数，其实经过我多次摸索，200个epochs模型就能收敛地比较好了\n",
    "- out_path 模型训练好后的保存路径"
   ]
  },
  {
   "cell_type": "code",
   "execution_count": null,
   "id": "c7b718bc-262f-442a-90c5-d56b6dbfc896",
   "metadata": {},
   "outputs": [],
   "source": [
    "!python /home/leihu/data/analysis/rb_tutorial/scBasset/bin/scbasset_preprocess.py \\\n",
    "--ad_file /home/leihu/data/analysis/rb_tutorial/data/scbasset/atac_scbasset_pre.h5ad \\\n",
    "--input_fasta /home/leihu/data/Reference/CHM13/fasta/genome.fa \\\n",
    "--out_path /home/leihu/data/analysis/rb_tutorial/model/scbasset/processed\n"
   ]
  },
  {
   "cell_type": "code",
   "execution_count": null,
   "id": "6b78807d-b4fb-4a02-8f97-f5d445eaa021",
   "metadata": {},
   "outputs": [],
   "source": [
    "!python /home/leihu/data/analysis/rb_tutorial/scBasset/bin/scbasset_train.py \\\n",
    "--input_folder /home/leihu/data/analysis/rb_tutorial/model/scbasset/processed \\\n",
    "--epochs 1000 \\\n",
    "--out_path /home/leihu/data/analysis/rb_tutorial/model/scbasset"
   ]
  },
  {
   "cell_type": "markdown",
   "id": "bf07addb-9f1b-46fd-9337-3849bd1bc278",
   "metadata": {},
   "source": [
    "### 模型加载\n",
    "\n",
    "在这里，我们提供了一个训练好的模型存放在`'model/scbasset/best_model.h5'`路径下"
   ]
  },
  {
   "cell_type": "code",
   "execution_count": 6,
   "id": "a8aa703a-8dc5-4b74-8308-390347c19c09",
   "metadata": {},
   "outputs": [
    {
     "name": "stderr",
     "output_type": "stream",
     "text": [
      "2023-03-11 01:12:40.039812: W tensorflow/compiler/xla/stream_executor/platform/default/dso_loader.cc:64] Could not load dynamic library 'libnvinfer.so.7'; dlerror: libnvinfer.so.7: cannot open shared object file: No such file or directory\n",
      "2023-03-11 01:12:40.039877: W tensorflow/compiler/xla/stream_executor/platform/default/dso_loader.cc:64] Could not load dynamic library 'libnvinfer_plugin.so.7'; dlerror: libnvinfer_plugin.so.7: cannot open shared object file: No such file or directory\n",
      "2023-03-11 01:12:40.039883: W tensorflow/compiler/tf2tensorrt/utils/py_utils.cc:38] TF-TRT Warning: Cannot dlopen some TensorRT libraries. If you would like to use Nvidia GPU with TensorRT, please make sure the missing libraries mentioned above are installed properly.\n"
     ]
    },
    {
     "name": "stdout",
     "output_type": "stream",
     "text": [
      "WARNING:tensorflow:From /home/leihu/pyomic/lib/python3.8/site-packages/tensorflow/python/autograph/pyct/static_analysis/liveness.py:83: Analyzer.lamba_check (from tensorflow.python.autograph.pyct.static_analysis.liveness) is deprecated and will be removed after 2023-09-23.\n",
      "Instructions for updating:\n",
      "Lambda fuctions will be no more assumed to be used in the statement where they are used, or at least in the same block. https://github.com/tensorflow/tensorflow/issues/56089\n"
     ]
    },
    {
     "name": "stderr",
     "output_type": "stream",
     "text": [
      "2023-03-11 01:12:40.420707: W tensorflow/compiler/xla/stream_executor/platform/default/dso_loader.cc:64] Could not load dynamic library 'libcuda.so.1'; dlerror: libcuda.so.1: cannot open shared object file: No such file or directory\n",
      "2023-03-11 01:12:40.420723: W tensorflow/compiler/xla/stream_executor/cuda/cuda_driver.cc:265] failed call to cuInit: UNKNOWN ERROR (303)\n"
     ]
    }
   ],
   "source": [
    "# load model\n",
    "from scbasset.utils import *\n",
    "\n",
    "model = make_model(32, adata.shape[0], show_summary=False)\n",
    "model.load_weights(current_path+'model/scbasset/best_model.h5')"
   ]
  },
  {
   "cell_type": "markdown",
   "id": "81ece595-002f-42e1-a57e-51ea83b9dfc7",
   "metadata": {},
   "source": [
    "### Motif活性评估\n",
    "\n",
    "在这里，我们提供两种方法对Motif进行活性评估，一种是作者给的方法，由于该方法最开始设计的时候是为了评估一个转录因子的Motif，所以如果想处理所有的转录因子效率就会比较低，因为涉及两个重复的步骤：`模型构建`与`背景motif评估`，于是我将这两个步骤给单独抽了出来，实现了第二种方法"
   ]
  },
  {
   "cell_type": "code",
   "execution_count": 7,
   "id": "9dea0931-3cdd-41a1-8b6f-62fa4ebeb96a",
   "metadata": {},
   "outputs": [
    {
     "data": {
      "text/plain": [
       "['MBD2', 'RFX7', 'ZNF282', 'OLIG3', 'HOXC6']"
      ]
     },
     "execution_count": 7,
     "metadata": {},
     "output_type": "execute_result"
    }
   ],
   "source": [
    "motif_list=[i.split('.fasta')[0] for i in os.listdir(current_path+'cis_reg/Homo_sapiens_motif_fasta/shuffled_peaks_motifs')]\n",
    "motif_list[:5]"
   ]
  },
  {
   "cell_type": "markdown",
   "id": "46064231-2d25-4d88-bf80-9f48be57d7c2",
   "metadata": {},
   "source": [
    "#### 方法1:\n",
    "\n",
    "我们使用作者给的`motif_score`函数对motif进行评分"
   ]
  },
  {
   "cell_type": "code",
   "execution_count": null,
   "id": "36859df8-c345-4a14-8455-2c5572ca2414",
   "metadata": {},
   "outputs": [],
   "source": [
    "#为每一个motif进行评分，一共是733个，大概也要算个几小时才能评估完\n",
    "#k是用来记录当前到第几个了\n",
    "#丑陋的写法，scbasset的作者\n",
    "import gc\n",
    "k=0\n",
    "new_pd=pd.DataFrame(columns=adata.obs.index.tolist())\n",
    "for i in motif_list:\n",
    "    print(k,i)\n",
    "    scores = motif_score(i, model, motif_fasta_folder=current_path+'cis_reg/Homo_sapiens_motif_fasta/')\n",
    "    new_pd.loc[i] = scores\n",
    "    k+=1\n",
    "    gc.collect()\n"
   ]
  },
  {
   "cell_type": "markdown",
   "id": "43bc3a36-d042-499e-a721-c762870fc08d",
   "metadata": {},
   "source": [
    "#### 方法2:\n",
    "\n",
    "我们直接使用模型来批量预测TF的motif分数"
   ]
  },
  {
   "cell_type": "code",
   "execution_count": 9,
   "id": "2bbd9541-ebb7-48c9-921b-9e319c1d709b",
   "metadata": {},
   "outputs": [],
   "source": [
    "#模型构建与参数筛选\n",
    "new_model = tf.keras.Model(\n",
    "            inputs=model.layers[0].input,\n",
    "            outputs=model.layers[-4].output,\n",
    "        )\n",
    "w = model.layers[-3].get_weights()[0]"
   ]
  },
  {
   "cell_type": "code",
   "execution_count": 11,
   "id": "8e0242e2-710d-4492-b06a-4f857feb9d29",
   "metadata": {},
   "outputs": [
    {
     "name": "stdout",
     "output_type": "stream",
     "text": [
      "32/32 [==============================] - 2s 70ms/step\n"
     ]
    }
   ],
   "source": [
    "#背景motif计算\n",
    "records = list(SeqIO.parse('/home/leihu/data/analysis/rb_tutorial/cis_reg/Homo_sapiens_motif_fasta/shuffled_peaks.fasta', \"fasta\"))\n",
    "seqs = [str(i.seq) for i in records]\n",
    "seqs_1hot = np.array([dna_1hot(i) for i in seqs])\n",
    "Y_pred = new_model.predict(seqs_1hot)\n",
    "accessibility_norm = np.dot(Y_pred.squeeze(), w)\n",
    "pred_bg = accessibility_norm = np.dot(Y_pred.squeeze(), w)"
   ]
  },
  {
   "cell_type": "code",
   "execution_count": null,
   "id": "5c041db2-633e-4de9-8c29-b82ed7c6b095",
   "metadata": {},
   "outputs": [],
   "source": [
    "#优雅的写法\n",
    "import gc\n",
    "new_pd=pd.DataFrame(columns=adata.obs.index.tolist())\n",
    "for i,k in zip(motif_list,range(len(motif_list))):\n",
    "    print(k,i)\n",
    "    #计算要预测的转录因子的motif\n",
    "    records = list(SeqIO.parse('/home/leihu/data/analysis/rb_tutorial/cis_reg/Homo_sapiens_motif_fasta/shuffled_peaks_motifs/{}.fasta'.format(i), \"fasta\"))\n",
    "    seqs = [str(i.seq) for i in records]\n",
    "    seqs_1hot = np.array([dna_1hot(i) for i in seqs])\n",
    "    Y_pred = new_model.predict(seqs_1hot)\n",
    "    accessibility_norm = np.dot(Y_pred.squeeze(), w)\n",
    "    pred_motif = accessibility_norm = np.dot(Y_pred.squeeze(), w)\n",
    "    #预测的减去背景\n",
    "    tf_score = pred_motif.mean(axis=0) - pred_bg.mean(axis=0)\n",
    "    tf_score = (tf_score - tf_score.mean()) / tf_score.std()\n",
    "    new_pd.loc[i] = tf_score\n",
    "    gc.collect()"
   ]
  },
  {
   "cell_type": "markdown",
   "id": "487407df-9403-4ea0-822a-276c80dac068",
   "metadata": {},
   "source": [
    "### 保存文件"
   ]
  },
  {
   "cell_type": "code",
   "execution_count": null,
   "id": "6f065a3e-ad0f-4b4e-895a-44253ac963c6",
   "metadata": {},
   "outputs": [],
   "source": [
    "#保存文件\n",
    "new_pd.to_csv(current_path+'data/scbasset/atac_motif_act_80.csv')"
   ]
  },
  {
   "cell_type": "code",
   "execution_count": null,
   "id": "77bf856a-529e-4a13-9a6a-dd6afa243f80",
   "metadata": {},
   "outputs": [],
   "source": [
    "#我们还可以按照anndata的格式保存文件\n",
    "adata_act=anndata.AnnData(new_pd.T,obs=pd.DataFrame(index=new_pd.columns.tolist()),\n",
    "                          var=pd.DataFrame(index=new_pd.index.tolist()))\n",
    "adata_act"
   ]
  },
  {
   "cell_type": "code",
   "execution_count": null,
   "id": "913ed61d-3322-4a0f-97e5-321a7890e9d4",
   "metadata": {},
   "outputs": [],
   "source": [
    "adata_act.write_h5ad(current_path+'data/scbasset/atac_motif_act.h5ad',compression='gzip')"
   ]
  }
 ],
 "metadata": {
  "kernelspec": {
   "display_name": "Python 3 (ipykernel)",
   "language": "python",
   "name": "python3"
  },
  "language_info": {
   "codemirror_mode": {
    "name": "ipython",
    "version": 3
   },
   "file_extension": ".py",
   "mimetype": "text/x-python",
   "name": "python",
   "nbconvert_exporter": "python",
   "pygments_lexer": "ipython3",
   "version": "3.8.12"
  }
 },
 "nbformat": 4,
 "nbformat_minor": 5
}
