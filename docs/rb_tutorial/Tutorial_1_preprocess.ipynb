{
 "cells": [
  {
   "cell_type": "markdown",
   "id": "213d33e7-3959-4511-a3e4-f5a245163fb5",
   "metadata": {},
   "source": [
    "# 教程1: 单细胞上游结果预处理\n",
    "\n",
    "## 1. 引言\n",
    "\n",
    "思来想后，还是写一个完整的分析教程吧，与以往的分析不同，本次分析将从`cellranger`比对后的文件开始，并且会写清楚每一步分析的思路，希望你学有所获\n",
    "    \n",
    "    by-泽华/胡磊"
   ]
  },
  {
   "cell_type": "markdown",
   "id": "9f19f9c5-2b0b-4951-821b-03de1d69fa69",
   "metadata": {
    "tags": []
   },
   "source": [
    "## 2. Cellranger文件导入\n",
    "\n",
    "在开始分析前，我们先认识一下`cellranger`的输出，一般有两种方式\n",
    "\n",
    "- `filtered_feature_bc_matrix.h5`：这个是`cellranger`的一个输出文件，存放在`outs`目录，我们一般使用`scanpy.read_10x_h5`进行导入\n",
    "- `filtered_feature_bc_matrix`: 这是一个文件夹，里面有`barcodes.tsv.gz`, `features.tsv.gz`, `matrix.mtx.gz`三个文件，也存放在`outs`目录，我们一般使用`scanpy.read_10x_mtx`进行导入\n",
    "\n",
    "通常文章发表后，我们可以从作者给的Coda and Data availability找到上面两种形式其中一种的数据，然后把他下载下来，当然也不排除有`.h5ad`或者`.rds`两种格式，前者是`scanpy`可以直接导入的格式，后者就直接跳过这个数据吧，这是R语言的格式。\n",
    "\n",
    "在这个分析中，我们使用了GSE166173的scRNA-seq和scATAC-seq数据，选择了'SRR13633759', 'SRR13633760', 'SRR13633761', 'SRR13633762'四个scRNA-seq文件，选择了'SRR13633766', 'SRR13633772'两个scATAC-seq文件\n",
    "\n",
    "我将cellranger与cellranger-atac的输出存放到了`data`目录下的`cellranger`和`cellranger-atac`目录下\n",
    "\n",
    "并且我还从ncbi上整理了每一个SRR文件的meta信息存放在`data`目录下的`meta`目录"
   ]
  },
  {
   "cell_type": "code",
   "execution_count": 1,
   "id": "14c449fe-b568-48d6-966f-dcfa1e9efd69",
   "metadata": {},
   "outputs": [
    {
     "name": "stdout",
     "output_type": "stream",
     "text": [
      "anndata(Ver):  0.8.0\n",
      "scanpy(Ver):  1.9.1\n",
      "matplotlib(Ver):  3.5.1\n",
      "seaborn(Ver):  0.11.2\n",
      "numpy(Ver):  1.22.3\n",
      "pandas(Ver):  1.3.5\n",
      "scvelo(Ver):  0.2.4\n"
     ]
    }
   ],
   "source": [
    "#导入包\n",
    "import anndata\n",
    "print('anndata(Ver): ',anndata.__version__)\n",
    "import scanpy as sc\n",
    "print('scanpy(Ver): ',sc.__version__)\n",
    "import matplotlib.pyplot as plt\n",
    "import matplotlib\n",
    "print('matplotlib(Ver): ',matplotlib.__version__)\n",
    "import seaborn as sns\n",
    "print('seaborn(Ver): ',sns.__version__)\n",
    "import numpy as np\n",
    "print('numpy(Ver): ',np.__version__)\n",
    "import pandas as pd\n",
    "print('pandas(Ver): ',pd.__version__)\n",
    "import scvelo as scv\n",
    "print('scvelo(Ver): ',scv.__version__)\n",
    "import gc\n",
    "import os\n",
    "current_path='/home/leihu/data/analysis/rb_tutorial/'"
   ]
  },
  {
   "cell_type": "markdown",
   "id": "1558de3c-6611-4e6a-bf86-2dbc502f7873",
   "metadata": {},
   "source": [
    "## 3. scRNA-seq预处理\n",
    "\n",
    "我们先导入scRNA-seq的meta文件，注意meta实际上就是我们`anndata`的obs"
   ]
  },
  {
   "cell_type": "code",
   "execution_count": 3,
   "id": "0889bfe0-1a02-4f1b-b7b8-616dc4cbab76",
   "metadata": {},
   "outputs": [
    {
     "data": {
      "text/html": [
       "<div>\n",
       "<style scoped>\n",
       "    .dataframe tbody tr th:only-of-type {\n",
       "        vertical-align: middle;\n",
       "    }\n",
       "\n",
       "    .dataframe tbody tr th {\n",
       "        vertical-align: top;\n",
       "    }\n",
       "\n",
       "    .dataframe thead th {\n",
       "        text-align: right;\n",
       "    }\n",
       "</style>\n",
       "<table border=\"1\" class=\"dataframe\">\n",
       "  <thead>\n",
       "    <tr style=\"text-align: right;\">\n",
       "      <th></th>\n",
       "      <th>Run</th>\n",
       "      <th>BioSample</th>\n",
       "      <th>AvgSpotLen</th>\n",
       "      <th>Bases</th>\n",
       "      <th>Bytes</th>\n",
       "      <th>Developmental_Stage</th>\n",
       "      <th>Experiment</th>\n",
       "      <th>GEO_Accession</th>\n",
       "      <th>Sample Name</th>\n",
       "      <th>source_name</th>\n",
       "      <th>Tissue</th>\n",
       "    </tr>\n",
       "  </thead>\n",
       "  <tbody>\n",
       "    <tr>\n",
       "      <th>1</th>\n",
       "      <td>SRR13633752</td>\n",
       "      <td>SAMN17796859</td>\n",
       "      <td>125</td>\n",
       "      <td>62.73 G</td>\n",
       "      <td>18.89 Gb</td>\n",
       "      <td>10PCW</td>\n",
       "      <td>SRX10031184</td>\n",
       "      <td>GSM5065157</td>\n",
       "      <td>GSM5065157</td>\n",
       "      <td>Retina</td>\n",
       "      <td>Retina</td>\n",
       "    </tr>\n",
       "    <tr>\n",
       "      <th>2</th>\n",
       "      <td>SRR13633753</td>\n",
       "      <td>SAMN17796857</td>\n",
       "      <td>125</td>\n",
       "      <td>71.03 G</td>\n",
       "      <td>21.19 Gb</td>\n",
       "      <td>21PCW</td>\n",
       "      <td>SRX10031185</td>\n",
       "      <td>GSM5065158</td>\n",
       "      <td>GSM5065158</td>\n",
       "      <td>Retina</td>\n",
       "      <td>Retina</td>\n",
       "    </tr>\n",
       "    <tr>\n",
       "      <th>3</th>\n",
       "      <td>SRR13633754</td>\n",
       "      <td>SAMN17796856</td>\n",
       "      <td>132</td>\n",
       "      <td>41.03 G</td>\n",
       "      <td>16.60 Gb</td>\n",
       "      <td>20PCW</td>\n",
       "      <td>SRX10031186</td>\n",
       "      <td>GSM5065159</td>\n",
       "      <td>GSM5065159</td>\n",
       "      <td>Retina</td>\n",
       "      <td>Retina</td>\n",
       "    </tr>\n",
       "    <tr>\n",
       "      <th>4</th>\n",
       "      <td>SRR13633755</td>\n",
       "      <td>SAMN17796854</td>\n",
       "      <td>125</td>\n",
       "      <td>47.95 G</td>\n",
       "      <td>13.88 Gb</td>\n",
       "      <td>15PCW</td>\n",
       "      <td>SRX10031187</td>\n",
       "      <td>GSM5065160</td>\n",
       "      <td>GSM5065160</td>\n",
       "      <td>Retina</td>\n",
       "      <td>Retina</td>\n",
       "    </tr>\n",
       "    <tr>\n",
       "      <th>5</th>\n",
       "      <td>SRR13633756</td>\n",
       "      <td>SAMN17796853</td>\n",
       "      <td>125</td>\n",
       "      <td>22.91 G</td>\n",
       "      <td>6.58 Gb</td>\n",
       "      <td>12PCW</td>\n",
       "      <td>SRX10031188</td>\n",
       "      <td>GSM5065161</td>\n",
       "      <td>GSM5065161</td>\n",
       "      <td>Retina</td>\n",
       "      <td>Retina</td>\n",
       "    </tr>\n",
       "  </tbody>\n",
       "</table>\n",
       "</div>"
      ],
      "text/plain": [
       "           Run     BioSample  AvgSpotLen    Bases     Bytes  \\\n",
       "1  SRR13633752  SAMN17796859         125  62.73 G  18.89 Gb   \n",
       "2  SRR13633753  SAMN17796857         125  71.03 G  21.19 Gb   \n",
       "3  SRR13633754  SAMN17796856         132  41.03 G  16.60 Gb   \n",
       "4  SRR13633755  SAMN17796854         125  47.95 G  13.88 Gb   \n",
       "5  SRR13633756  SAMN17796853         125  22.91 G   6.58 Gb   \n",
       "\n",
       "  Developmental_Stage   Experiment GEO_Accession Sample Name source_name  \\\n",
       "1               10PCW  SRX10031184    GSM5065157  GSM5065157      Retina   \n",
       "2               21PCW  SRX10031185    GSM5065158  GSM5065158      Retina   \n",
       "3               20PCW  SRX10031186    GSM5065159  GSM5065159      Retina   \n",
       "4               15PCW  SRX10031187    GSM5065160  GSM5065160      Retina   \n",
       "5               12PCW  SRX10031188    GSM5065161  GSM5065161      Retina   \n",
       "\n",
       "   Tissue  \n",
       "1  Retina  \n",
       "2  Retina  \n",
       "3  Retina  \n",
       "4  Retina  \n",
       "5  Retina  "
      ]
     },
     "execution_count": 3,
     "metadata": {},
     "output_type": "execute_result"
    }
   ],
   "source": [
    "rna_meta=pd.read_csv(current_path+'data/meta/RB_rna_meta.csv',index_col=0)\n",
    "rna_meta.head()"
   ]
  },
  {
   "cell_type": "markdown",
   "id": "55b1974d-325c-43a2-b002-6554dcc8e2b0",
   "metadata": {},
   "source": [
    "我们提取一下视网膜母细胞瘤的样本信息"
   ]
  },
  {
   "cell_type": "code",
   "execution_count": 4,
   "id": "df32b6b7-7bdd-423f-9ce3-e6d4ae51614c",
   "metadata": {},
   "outputs": [
    {
     "data": {
      "text/plain": [
       "array(['SRR13633759', 'SRR13633760', 'SRR13633761', 'SRR13633762'],\n",
       "      dtype=object)"
      ]
     },
     "execution_count": 4,
     "metadata": {},
     "output_type": "execute_result"
    }
   ],
   "source": [
    "srr_name=rna_meta.loc[rna_meta['Tissue']=='Retinoblastoma','Run'].values\n",
    "srr_name"
   ]
  },
  {
   "cell_type": "code",
   "execution_count": 17,
   "id": "61f50a19-4a13-4e2d-abfe-ac052057dac1",
   "metadata": {},
   "outputs": [
    {
     "name": "stdout",
     "output_type": "stream",
     "text": [
      "Now read:  SRR13633759\n",
      "Read success:  SRR13633759\n"
     ]
    },
    {
     "data": {
      "text/plain": [
       "AnnData object with n_obs × n_vars = 2452 × 64202\n",
       "    obs: 'initial_size_spliced', 'initial_size_unspliced', 'initial_size', 'Tissue', 'Developmental_Stage'\n",
       "    var: 'gene_ids', 'feature_types', 'genome', 'Accession', 'Chromosome', 'End', 'Start', 'Strand'\n",
       "    layers: 'matrix', 'ambiguous', 'spliced', 'unspliced'"
      ]
     },
     "execution_count": 17,
     "metadata": {},
     "output_type": "execute_result"
    }
   ],
   "source": [
    "#我们从cellranger的输出中读取第一个文件\n",
    "name=srr_name[0]\n",
    "print('Now read: ',name)\n",
    "#读取文件\n",
    "adata1=sc.read_10x_h5(current_path+'data/cellranger/{}/filtered_feature_bc_matrix.h5'.format(name))\n",
    "#adata1=sc.read_10x_mtx(current_path+'data/cellranger/{}/filtered_feature_bc_matrix'.format(name))\n",
    "\n",
    "#由于我们使用了velocyto计算了每一个测序文件的RNA velocity，所以我们在预处理文件的时候需要一并导入\n",
    "#需要注意的是，velocyto的输出后缀是不定的，所以我们需要通过os.listdir读取文件名\n",
    "a=os.listdir(current_path+'data/cellranger/{}/velocyto'.format(name))[0]\n",
    "ldata = scv.read(current_path+'data/cellranger/{}/velocyto/{}'.format(name,a))\n",
    "\n",
    "\n",
    "#ldata就是velocyto的输出，我们使用scv.utils.merge进行拼接\n",
    "scv.utils.clean_obs_names(adata1)\n",
    "scv.utils.clean_obs_names(ldata)\n",
    "adata1 = scv.utils.merge(adata1, ldata)\n",
    "\n",
    "#由于barcodes跟genes可能重名，所以我们make_unique\n",
    "adata1.var_names_make_unique()\n",
    "adata1.obs_names_make_unique()\n",
    "\n",
    "#由于我们接下来需要合并不同的测序文件，为了避免barcode重复，导致报错，我们为每一个SRR的obs.index加上一个SRR的后缀\n",
    "#例如SRR13633759，我们加入的后缀就是759，用633来split\n",
    "adata1.obs.index=['{}-{}'.format(i,name.split('633')[1]) for i in adata1.obs.index]\n",
    "\n",
    "#导入meta信息\n",
    "adata1.obs['Tissue']='Retinoblastoma'\n",
    "adata1.obs['Developmental_Stage']=rna_meta.loc[rna_meta['Run']==name,'Developmental_Stage'].values[0]\n",
    "print('Read success: ',name)\n",
    "adata1"
   ]
  },
  {
   "cell_type": "markdown",
   "id": "3062fe2e-4ff3-433f-b9e7-9f760e3f41be",
   "metadata": {},
   "source": [
    "在成功读取一个文件后，我们还有三个文件，为了避免重复写三次代码，我们使用循环来读取"
   ]
  },
  {
   "cell_type": "code",
   "execution_count": 18,
   "id": "e2f4919e-dc3c-471f-9afe-fa1500f49c45",
   "metadata": {},
   "outputs": [
    {
     "name": "stdout",
     "output_type": "stream",
     "text": [
      "Now read:  SRR13633760\n",
      "Read success:  SRR13633760\n",
      "Now read:  SRR13633761\n",
      "Read success:  SRR13633761\n",
      "Now read:  SRR13633762\n",
      "Read success:  SRR13633762\n"
     ]
    }
   ],
   "source": [
    "for name in srr_name:\n",
    "    if 'SRR13633759' in name:\n",
    "        continue\n",
    "    print('Now read: ',name)\n",
    "    a=os.listdir(current_path+'data/cellranger/{}/velocyto'.format(name))[0]\n",
    "    ldata = scv.read(current_path+'data/cellranger/{}/velocyto/{}'.format(name,a))\n",
    "    adata_test=sc.read_10x_h5(current_path+'data/cellranger/{}/filtered_feature_bc_matrix.h5'.format(name))\n",
    "    scv.utils.clean_obs_names(adata_test)\n",
    "    scv.utils.clean_obs_names(ldata)\n",
    "    adata_test = scv.utils.merge(adata_test, ldata)\n",
    "    adata_test.var_names_make_unique()\n",
    "    adata_test.obs_names_make_unique()\n",
    "    adata_test.obs.index=['{}-{}'.format(i,name.split('633')[1]) for i in adata_test.obs.index]\n",
    "    adata_test.obs['Tissue']='Retinoblastoma'\n",
    "    adata_test.obs['Developmental_Stage']=rna_meta.loc[rna_meta['Run']==name,'Developmental_Stage'].values[0]\n",
    "    adata1=anndata.concat([adata1,adata_test],merge='same')\n",
    "    print('Read success: ',name)\n",
    "    \n",
    "    #gc.collect是释放内存的意思，因为我们读取文件都是用adata_test变量进行存放，覆盖的过程会出现垃圾内存\n",
    "    #Python虽然会自动释放但是太慢了\n",
    "    gc.collect()"
   ]
  },
  {
   "cell_type": "code",
   "execution_count": 20,
   "id": "941787c0-fa2c-424e-bb6b-3fdd62480a19",
   "metadata": {},
   "outputs": [
    {
     "data": {
      "text/plain": [
       "AnnData object with n_obs × n_vars = 22048 × 64202\n",
       "    obs: 'initial_size_spliced', 'initial_size_unspliced', 'initial_size', 'Tissue', 'Developmental_Stage'\n",
       "    var: 'gene_ids', 'feature_types', 'genome', 'Accession', 'End', 'Start'\n",
       "    layers: 'matrix', 'ambiguous', 'spliced', 'unspliced'"
      ]
     },
     "execution_count": 20,
     "metadata": {},
     "output_type": "execute_result"
    }
   ],
   "source": [
    "#可以看到我们现在的adata1有22,048个细胞，说明四个文件成功读取完了\n",
    "adata1"
   ]
  },
  {
   "cell_type": "code",
   "execution_count": 21,
   "id": "b987be2d-051e-4b3b-9d43-9f88add589ed",
   "metadata": {},
   "outputs": [],
   "source": [
    "#保存文件\n",
    "adata1.write_h5ad(current_path+'data/raw_data/RB-rna-Retinoblastoma.h5ad',compression='gzip')"
   ]
  },
  {
   "cell_type": "markdown",
   "id": "a4b69be4-0e8b-4118-a9ee-b85e0a83bb4b",
   "metadata": {},
   "source": [
    "## 4. scATAC-seq预处理\n",
    "\n",
    "scATAC-seq的预处理是类似的，但是文件的合并有所不同"
   ]
  },
  {
   "cell_type": "code",
   "execution_count": 23,
   "id": "0f37e056-5335-4814-a111-4ea1ca3eb0ed",
   "metadata": {},
   "outputs": [
    {
     "data": {
      "text/html": [
       "<div>\n",
       "<style scoped>\n",
       "    .dataframe tbody tr th:only-of-type {\n",
       "        vertical-align: middle;\n",
       "    }\n",
       "\n",
       "    .dataframe tbody tr th {\n",
       "        vertical-align: top;\n",
       "    }\n",
       "\n",
       "    .dataframe thead th {\n",
       "        text-align: right;\n",
       "    }\n",
       "</style>\n",
       "<table border=\"1\" class=\"dataframe\">\n",
       "  <thead>\n",
       "    <tr style=\"text-align: right;\">\n",
       "      <th></th>\n",
       "      <th>Run</th>\n",
       "      <th>BioSample</th>\n",
       "      <th>Bases</th>\n",
       "      <th>Bytes</th>\n",
       "      <th>Developmental_Stage</th>\n",
       "      <th>Experiment</th>\n",
       "      <th>GEO_Accession</th>\n",
       "      <th>Sample Name</th>\n",
       "      <th>source_name</th>\n",
       "      <th>Tissue</th>\n",
       "    </tr>\n",
       "  </thead>\n",
       "  <tbody>\n",
       "    <tr>\n",
       "      <th>1</th>\n",
       "      <td>SRR13633765</td>\n",
       "      <td>SAMN17796941</td>\n",
       "      <td>36.97 G</td>\n",
       "      <td>11.22 Gb</td>\n",
       "      <td>20PCW</td>\n",
       "      <td>SRX10031197</td>\n",
       "      <td>GSM5065170</td>\n",
       "      <td>GSM5065170</td>\n",
       "      <td>Retina</td>\n",
       "      <td>Retina</td>\n",
       "    </tr>\n",
       "    <tr>\n",
       "      <th>2</th>\n",
       "      <td>SRR13633766</td>\n",
       "      <td>SAMN17796939</td>\n",
       "      <td>39.16 G</td>\n",
       "      <td>11.81 Gb</td>\n",
       "      <td>Retinoblastoma_4months</td>\n",
       "      <td>SRX10031198</td>\n",
       "      <td>GSM5065171</td>\n",
       "      <td>GSM5065171</td>\n",
       "      <td>Retinoblastoma</td>\n",
       "      <td>Retinoblastoma</td>\n",
       "    </tr>\n",
       "    <tr>\n",
       "      <th>3</th>\n",
       "      <td>SRR13633767</td>\n",
       "      <td>SAMN17796938</td>\n",
       "      <td>43.63 G</td>\n",
       "      <td>13.21 Gb</td>\n",
       "      <td>12PCW</td>\n",
       "      <td>SRX10031199</td>\n",
       "      <td>GSM5065172</td>\n",
       "      <td>GSM5065172</td>\n",
       "      <td>Retina</td>\n",
       "      <td>Retina</td>\n",
       "    </tr>\n",
       "    <tr>\n",
       "      <th>4</th>\n",
       "      <td>SRR13633768</td>\n",
       "      <td>SAMN17796936</td>\n",
       "      <td>44.50 G</td>\n",
       "      <td>13.35 Gb</td>\n",
       "      <td>16PCW</td>\n",
       "      <td>SRX10031200</td>\n",
       "      <td>GSM5065173</td>\n",
       "      <td>GSM5065173</td>\n",
       "      <td>Retina</td>\n",
       "      <td>Retina</td>\n",
       "    </tr>\n",
       "    <tr>\n",
       "      <th>5</th>\n",
       "      <td>SRR13633769</td>\n",
       "      <td>SAMN17796934</td>\n",
       "      <td>46.94 G</td>\n",
       "      <td>14.15 Gb</td>\n",
       "      <td>12PCW</td>\n",
       "      <td>SRX10031201</td>\n",
       "      <td>GSM5065174</td>\n",
       "      <td>GSM5065174</td>\n",
       "      <td>Retina</td>\n",
       "      <td>Retina</td>\n",
       "    </tr>\n",
       "  </tbody>\n",
       "</table>\n",
       "</div>"
      ],
      "text/plain": [
       "           Run     BioSample    Bases     Bytes     Developmental_Stage  \\\n",
       "1  SRR13633765  SAMN17796941  36.97 G  11.22 Gb                   20PCW   \n",
       "2  SRR13633766  SAMN17796939  39.16 G  11.81 Gb  Retinoblastoma_4months   \n",
       "3  SRR13633767  SAMN17796938  43.63 G  13.21 Gb                   12PCW   \n",
       "4  SRR13633768  SAMN17796936  44.50 G  13.35 Gb                   16PCW   \n",
       "5  SRR13633769  SAMN17796934  46.94 G  14.15 Gb                   12PCW   \n",
       "\n",
       "    Experiment GEO_Accession Sample Name     source_name          Tissue  \n",
       "1  SRX10031197    GSM5065170  GSM5065170          Retina          Retina  \n",
       "2  SRX10031198    GSM5065171  GSM5065171  Retinoblastoma  Retinoblastoma  \n",
       "3  SRX10031199    GSM5065172  GSM5065172          Retina          Retina  \n",
       "4  SRX10031200    GSM5065173  GSM5065173          Retina          Retina  \n",
       "5  SRX10031201    GSM5065174  GSM5065174          Retina          Retina  "
      ]
     },
     "execution_count": 23,
     "metadata": {},
     "output_type": "execute_result"
    }
   ],
   "source": [
    "atac_meta=pd.read_csv(current_path+'data/meta/RB_atac_meta.csv',index_col=0)\n",
    "atac_meta.head()"
   ]
  },
  {
   "cell_type": "code",
   "execution_count": 24,
   "id": "60096ecf-9bc5-4839-9f1b-cac2ef6a481e",
   "metadata": {},
   "outputs": [
    {
     "data": {
      "text/plain": [
       "array(['SRR13633766', 'SRR13633772'], dtype=object)"
      ]
     },
     "execution_count": 24,
     "metadata": {},
     "output_type": "execute_result"
    }
   ],
   "source": [
    "#我们提取一下视网膜母细胞瘤的样本信息\n",
    "srr_name=atac_meta.loc[atac_meta['Tissue']=='Retinoblastoma','Run'].values\n",
    "srr_name"
   ]
  },
  {
   "cell_type": "code",
   "execution_count": null,
   "id": "921631da-21c3-439c-a58a-b6564d204fb1",
   "metadata": {},
   "outputs": [],
   "source": [
    "import episcanpy\n",
    "name='SRR13633766'\n",
    "adata=episcanpy.pp.read_ATAC_10x(current_path+'data/cellranger-atac/SRR13633766/filtered_peak_bc_matrix/matrix.mtx', \\\n",
    "                                cell_names=current_path+'data/cellranger-atac/SRR13633766/filtered_peak_bc_matrix/barcodes.tsv', \\\n",
    "                                var_names=current_path+'data/cellranger-atac/SRR13633766/filtered_peak_bc_matrix/peaks.bed')\n",
    "adata.var_names_make_unique()\n",
    "adata.obs_names_make_unique()\n",
    "adata.obs.index=['{}-{}'.format(i,name.split('633')[1]) for i in adata.obs.index]\n",
    "adata.obs['Tissue']='Retinoblastoma'\n"
   ]
  },
  {
   "cell_type": "code",
   "execution_count": 28,
   "id": "5a972b80-4c23-48c5-afb7-a9b26ac26ff6",
   "metadata": {},
   "outputs": [
    {
     "data": {
      "text/plain": [
       "AnnData object with n_obs × n_vars = 20001 × 234628\n",
       "    obs: 'Tissue', 'Developmental_Stage'\n",
       "    uns: 'omic'"
      ]
     },
     "execution_count": 28,
     "metadata": {},
     "output_type": "execute_result"
    }
   ],
   "source": [
    "adata.obs['Developmental_Stage']=atac_meta.loc[atac_meta['Run']=='SRR13633766','Developmental_Stage'].values[0]\n",
    "adata"
   ]
  },
  {
   "cell_type": "code",
   "execution_count": 29,
   "id": "2d9099d6-7eb0-4d46-a0e4-adc64142c6a3",
   "metadata": {},
   "outputs": [],
   "source": [
    "#保存文件\n",
    "adata.write_h5ad(current_path+'data/raw_data/RB-atac-SRR13633766.h5ad',compression='gzip')"
   ]
  },
  {
   "cell_type": "code",
   "execution_count": 30,
   "id": "82ee8ed7-7041-47c1-a94e-77a465d94e92",
   "metadata": {},
   "outputs": [
    {
     "data": {
      "text/plain": [
       "AnnData object with n_obs × n_vars = 20031 × 204576\n",
       "    obs: 'Tissue', 'Developmental_Stage'\n",
       "    uns: 'omic'"
      ]
     },
     "execution_count": 30,
     "metadata": {},
     "output_type": "execute_result"
    }
   ],
   "source": [
    "name='SRR13633772'\n",
    "adata=episcanpy.pp.read_ATAC_10x(current_path+'data/cellranger-atac/SRR13633772/filtered_peak_bc_matrix/matrix.mtx', \\\n",
    "                                cell_names=current_path+'data/cellranger-atac/SRR13633772/filtered_peak_bc_matrix/barcodes.tsv', \\\n",
    "                                var_names=current_path+'data/cellranger-atac/SRR13633772/filtered_peak_bc_matrix/peaks.bed')\n",
    "adata.var_names_make_unique()\n",
    "adata.obs_names_make_unique()\n",
    "adata.obs.index=['{}-{}'.format(i,name.split('633')[1]) for i in adata.obs.index]\n",
    "adata.obs['Tissue']='Retinoblastoma'\n",
    "adata.obs['Developmental_Stage']=atac_meta.loc[atac_meta['Run']=='SRR13633772','Developmental_Stage'].values[0]\n",
    "gc.collect()\n",
    "adata"
   ]
  },
  {
   "cell_type": "code",
   "execution_count": 31,
   "id": "e8bae98e-fbd8-464d-93bf-43eaf7993fe2",
   "metadata": {},
   "outputs": [],
   "source": [
    "#保存文件\n",
    "adata.write_h5ad(current_path+'data/raw_data/RB-atac-SRR13633772.h5ad',compression='gzip')"
   ]
  },
  {
   "cell_type": "code",
   "execution_count": null,
   "id": "7691f79e-9e06-4856-aba2-4815e1f94c69",
   "metadata": {},
   "outputs": [],
   "source": []
  }
 ],
 "metadata": {
  "kernelspec": {
   "display_name": "Python 3 (ipykernel)",
   "language": "python",
   "name": "python3"
  },
  "language_info": {
   "codemirror_mode": {
    "name": "ipython",
    "version": 3
   },
   "file_extension": ".py",
   "mimetype": "text/x-python",
   "name": "python",
   "nbconvert_exporter": "python",
   "pygments_lexer": "ipython3",
   "version": "3.8.12"
  }
 },
 "nbformat": 4,
 "nbformat_minor": 5
}
